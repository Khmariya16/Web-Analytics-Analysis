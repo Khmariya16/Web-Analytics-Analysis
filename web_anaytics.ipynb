{
  "nbformat": 4,
  "nbformat_minor": 0,
  "metadata": {
    "colab": {
      "provenance": []
    },
    "kernelspec": {
      "name": "python3",
      "display_name": "Python 3"
    },
    "language_info": {
      "name": "python"
    }
  },
  "cells": [
    {
      "cell_type": "code",
      "execution_count": 6,
      "metadata": {
        "id": "6-j2ksNMCrfA"
      },
      "outputs": [],
      "source": [
        "import pandas as pd\n",
        "import numpy as np"
      ]
    },
    {
      "cell_type": "code",
      "source": [
        "df = pd.read_csv('web.csv')"
      ],
      "metadata": {
        "id": "pk5qgdJNCzLA"
      },
      "execution_count": 2,
      "outputs": []
    },
    {
      "cell_type": "code",
      "source": [
        "df.dtypes"
      ],
      "metadata": {
        "colab": {
          "base_uri": "https://localhost:8080/",
          "height": 486
        },
        "id": "PbOIim3zC72f",
        "outputId": "1ecbcb08-b058-4a32-b3a4-8ba3076b0cd6"
      },
      "execution_count": 3,
      "outputs": [
        {
          "output_type": "execute_result",
          "data": {
            "text/plain": [
              "Source / Medium           object\n",
              "Year                       int64\n",
              "Month of the year          int64\n",
              "Users                      int64\n",
              "New Users                  int64\n",
              "Sessions                   int64\n",
              "Bounce Rate              float64\n",
              "Pageviews                  int64\n",
              "Avg. Session Duration     object\n",
              "Conversion Rate (%)      float64\n",
              "Transactions               int64\n",
              "Revenue                    int64\n",
              "Quantity Sold              int64\n",
              "dtype: object"
            ],
            "text/html": [
              "<div>\n",
              "<style scoped>\n",
              "    .dataframe tbody tr th:only-of-type {\n",
              "        vertical-align: middle;\n",
              "    }\n",
              "\n",
              "    .dataframe tbody tr th {\n",
              "        vertical-align: top;\n",
              "    }\n",
              "\n",
              "    .dataframe thead th {\n",
              "        text-align: right;\n",
              "    }\n",
              "</style>\n",
              "<table border=\"1\" class=\"dataframe\">\n",
              "  <thead>\n",
              "    <tr style=\"text-align: right;\">\n",
              "      <th></th>\n",
              "      <th>0</th>\n",
              "    </tr>\n",
              "  </thead>\n",
              "  <tbody>\n",
              "    <tr>\n",
              "      <th>Source / Medium</th>\n",
              "      <td>object</td>\n",
              "    </tr>\n",
              "    <tr>\n",
              "      <th>Year</th>\n",
              "      <td>int64</td>\n",
              "    </tr>\n",
              "    <tr>\n",
              "      <th>Month of the year</th>\n",
              "      <td>int64</td>\n",
              "    </tr>\n",
              "    <tr>\n",
              "      <th>Users</th>\n",
              "      <td>int64</td>\n",
              "    </tr>\n",
              "    <tr>\n",
              "      <th>New Users</th>\n",
              "      <td>int64</td>\n",
              "    </tr>\n",
              "    <tr>\n",
              "      <th>Sessions</th>\n",
              "      <td>int64</td>\n",
              "    </tr>\n",
              "    <tr>\n",
              "      <th>Bounce Rate</th>\n",
              "      <td>float64</td>\n",
              "    </tr>\n",
              "    <tr>\n",
              "      <th>Pageviews</th>\n",
              "      <td>int64</td>\n",
              "    </tr>\n",
              "    <tr>\n",
              "      <th>Avg. Session Duration</th>\n",
              "      <td>object</td>\n",
              "    </tr>\n",
              "    <tr>\n",
              "      <th>Conversion Rate (%)</th>\n",
              "      <td>float64</td>\n",
              "    </tr>\n",
              "    <tr>\n",
              "      <th>Transactions</th>\n",
              "      <td>int64</td>\n",
              "    </tr>\n",
              "    <tr>\n",
              "      <th>Revenue</th>\n",
              "      <td>int64</td>\n",
              "    </tr>\n",
              "    <tr>\n",
              "      <th>Quantity Sold</th>\n",
              "      <td>int64</td>\n",
              "    </tr>\n",
              "  </tbody>\n",
              "</table>\n",
              "</div><br><label><b>dtype:</b> object</label>"
            ]
          },
          "metadata": {},
          "execution_count": 3
        }
      ]
    },
    {
      "cell_type": "code",
      "source": [
        "df.describe()"
      ],
      "metadata": {
        "colab": {
          "base_uri": "https://localhost:8080/",
          "height": 334
        },
        "id": "yPhXCuxvEmKg",
        "outputId": "f5732af4-9d04-4b6b-8383-291a651168b0"
      },
      "execution_count": 4,
      "outputs": [
        {
          "output_type": "execute_result",
          "data": {
            "text/plain": [
              "              Year  Month of the year          Users      New Users  \\\n",
              "count   249.000000         249.000000     249.000000     249.000000   \n",
              "mean   2019.642570           6.546185   11340.522088    8778.967871   \n",
              "std       0.480208           3.513636   24555.407501   20618.100558   \n",
              "min    2019.000000           1.000000      41.000000       1.000000   \n",
              "25%    2019.000000           4.000000     318.000000     145.000000   \n",
              "50%    2020.000000           6.000000     865.000000     493.000000   \n",
              "75%    2020.000000          10.000000    7869.000000    3721.000000   \n",
              "max    2020.000000          12.000000  126870.000000  104308.000000   \n",
              "\n",
              "            Sessions  Bounce Rate      Pageviews  Conversion Rate (%)  \\\n",
              "count     249.000000   249.000000     249.000000           249.000000   \n",
              "mean    16155.417671     0.492651   44287.710843             3.150602   \n",
              "std     35672.225385     0.202768   94040.501564             8.138685   \n",
              "min       127.000000     0.000000     237.000000             0.000000   \n",
              "25%       399.000000     0.350000    1388.000000             0.140000   \n",
              "50%      1146.000000     0.530000    4457.000000             0.420000   \n",
              "75%     10252.000000     0.620000   31980.000000             0.780000   \n",
              "max    194667.000000     0.990000  559509.000000            42.080000   \n",
              "\n",
              "       Transactions        Revenue  Quantity Sold  \n",
              "count    249.000000     249.000000     249.000000  \n",
              "mean      85.393574   14832.104418     150.706827  \n",
              "std      178.167978   29800.642723     328.732252  \n",
              "min        0.000000       0.000000       0.000000  \n",
              "25%        2.000000     224.000000       2.000000  \n",
              "50%        8.000000    1416.000000      14.000000  \n",
              "75%       84.000000   14964.000000     129.000000  \n",
              "max     1347.000000  203552.000000    2402.000000  "
            ],
            "text/html": [
              "\n",
              "  <div id=\"df-4c67a9b3-912e-4441-86b4-9fcd9ecea9d0\" class=\"colab-df-container\">\n",
              "    <div>\n",
              "<style scoped>\n",
              "    .dataframe tbody tr th:only-of-type {\n",
              "        vertical-align: middle;\n",
              "    }\n",
              "\n",
              "    .dataframe tbody tr th {\n",
              "        vertical-align: top;\n",
              "    }\n",
              "\n",
              "    .dataframe thead th {\n",
              "        text-align: right;\n",
              "    }\n",
              "</style>\n",
              "<table border=\"1\" class=\"dataframe\">\n",
              "  <thead>\n",
              "    <tr style=\"text-align: right;\">\n",
              "      <th></th>\n",
              "      <th>Year</th>\n",
              "      <th>Month of the year</th>\n",
              "      <th>Users</th>\n",
              "      <th>New Users</th>\n",
              "      <th>Sessions</th>\n",
              "      <th>Bounce Rate</th>\n",
              "      <th>Pageviews</th>\n",
              "      <th>Conversion Rate (%)</th>\n",
              "      <th>Transactions</th>\n",
              "      <th>Revenue</th>\n",
              "      <th>Quantity Sold</th>\n",
              "    </tr>\n",
              "  </thead>\n",
              "  <tbody>\n",
              "    <tr>\n",
              "      <th>count</th>\n",
              "      <td>249.000000</td>\n",
              "      <td>249.000000</td>\n",
              "      <td>249.000000</td>\n",
              "      <td>249.000000</td>\n",
              "      <td>249.000000</td>\n",
              "      <td>249.000000</td>\n",
              "      <td>249.000000</td>\n",
              "      <td>249.000000</td>\n",
              "      <td>249.000000</td>\n",
              "      <td>249.000000</td>\n",
              "      <td>249.000000</td>\n",
              "    </tr>\n",
              "    <tr>\n",
              "      <th>mean</th>\n",
              "      <td>2019.642570</td>\n",
              "      <td>6.546185</td>\n",
              "      <td>11340.522088</td>\n",
              "      <td>8778.967871</td>\n",
              "      <td>16155.417671</td>\n",
              "      <td>0.492651</td>\n",
              "      <td>44287.710843</td>\n",
              "      <td>3.150602</td>\n",
              "      <td>85.393574</td>\n",
              "      <td>14832.104418</td>\n",
              "      <td>150.706827</td>\n",
              "    </tr>\n",
              "    <tr>\n",
              "      <th>std</th>\n",
              "      <td>0.480208</td>\n",
              "      <td>3.513636</td>\n",
              "      <td>24555.407501</td>\n",
              "      <td>20618.100558</td>\n",
              "      <td>35672.225385</td>\n",
              "      <td>0.202768</td>\n",
              "      <td>94040.501564</td>\n",
              "      <td>8.138685</td>\n",
              "      <td>178.167978</td>\n",
              "      <td>29800.642723</td>\n",
              "      <td>328.732252</td>\n",
              "    </tr>\n",
              "    <tr>\n",
              "      <th>min</th>\n",
              "      <td>2019.000000</td>\n",
              "      <td>1.000000</td>\n",
              "      <td>41.000000</td>\n",
              "      <td>1.000000</td>\n",
              "      <td>127.000000</td>\n",
              "      <td>0.000000</td>\n",
              "      <td>237.000000</td>\n",
              "      <td>0.000000</td>\n",
              "      <td>0.000000</td>\n",
              "      <td>0.000000</td>\n",
              "      <td>0.000000</td>\n",
              "    </tr>\n",
              "    <tr>\n",
              "      <th>25%</th>\n",
              "      <td>2019.000000</td>\n",
              "      <td>4.000000</td>\n",
              "      <td>318.000000</td>\n",
              "      <td>145.000000</td>\n",
              "      <td>399.000000</td>\n",
              "      <td>0.350000</td>\n",
              "      <td>1388.000000</td>\n",
              "      <td>0.140000</td>\n",
              "      <td>2.000000</td>\n",
              "      <td>224.000000</td>\n",
              "      <td>2.000000</td>\n",
              "    </tr>\n",
              "    <tr>\n",
              "      <th>50%</th>\n",
              "      <td>2020.000000</td>\n",
              "      <td>6.000000</td>\n",
              "      <td>865.000000</td>\n",
              "      <td>493.000000</td>\n",
              "      <td>1146.000000</td>\n",
              "      <td>0.530000</td>\n",
              "      <td>4457.000000</td>\n",
              "      <td>0.420000</td>\n",
              "      <td>8.000000</td>\n",
              "      <td>1416.000000</td>\n",
              "      <td>14.000000</td>\n",
              "    </tr>\n",
              "    <tr>\n",
              "      <th>75%</th>\n",
              "      <td>2020.000000</td>\n",
              "      <td>10.000000</td>\n",
              "      <td>7869.000000</td>\n",
              "      <td>3721.000000</td>\n",
              "      <td>10252.000000</td>\n",
              "      <td>0.620000</td>\n",
              "      <td>31980.000000</td>\n",
              "      <td>0.780000</td>\n",
              "      <td>84.000000</td>\n",
              "      <td>14964.000000</td>\n",
              "      <td>129.000000</td>\n",
              "    </tr>\n",
              "    <tr>\n",
              "      <th>max</th>\n",
              "      <td>2020.000000</td>\n",
              "      <td>12.000000</td>\n",
              "      <td>126870.000000</td>\n",
              "      <td>104308.000000</td>\n",
              "      <td>194667.000000</td>\n",
              "      <td>0.990000</td>\n",
              "      <td>559509.000000</td>\n",
              "      <td>42.080000</td>\n",
              "      <td>1347.000000</td>\n",
              "      <td>203552.000000</td>\n",
              "      <td>2402.000000</td>\n",
              "    </tr>\n",
              "  </tbody>\n",
              "</table>\n",
              "</div>\n",
              "    <div class=\"colab-df-buttons\">\n",
              "\n",
              "  <div class=\"colab-df-container\">\n",
              "    <button class=\"colab-df-convert\" onclick=\"convertToInteractive('df-4c67a9b3-912e-4441-86b4-9fcd9ecea9d0')\"\n",
              "            title=\"Convert this dataframe to an interactive table.\"\n",
              "            style=\"display:none;\">\n",
              "\n",
              "  <svg xmlns=\"http://www.w3.org/2000/svg\" height=\"24px\" viewBox=\"0 -960 960 960\">\n",
              "    <path d=\"M120-120v-720h720v720H120Zm60-500h600v-160H180v160Zm220 220h160v-160H400v160Zm0 220h160v-160H400v160ZM180-400h160v-160H180v160Zm440 0h160v-160H620v160ZM180-180h160v-160H180v160Zm440 0h160v-160H620v160Z\"/>\n",
              "  </svg>\n",
              "    </button>\n",
              "\n",
              "  <style>\n",
              "    .colab-df-container {\n",
              "      display:flex;\n",
              "      gap: 12px;\n",
              "    }\n",
              "\n",
              "    .colab-df-convert {\n",
              "      background-color: #E8F0FE;\n",
              "      border: none;\n",
              "      border-radius: 50%;\n",
              "      cursor: pointer;\n",
              "      display: none;\n",
              "      fill: #1967D2;\n",
              "      height: 32px;\n",
              "      padding: 0 0 0 0;\n",
              "      width: 32px;\n",
              "    }\n",
              "\n",
              "    .colab-df-convert:hover {\n",
              "      background-color: #E2EBFA;\n",
              "      box-shadow: 0px 1px 2px rgba(60, 64, 67, 0.3), 0px 1px 3px 1px rgba(60, 64, 67, 0.15);\n",
              "      fill: #174EA6;\n",
              "    }\n",
              "\n",
              "    .colab-df-buttons div {\n",
              "      margin-bottom: 4px;\n",
              "    }\n",
              "\n",
              "    [theme=dark] .colab-df-convert {\n",
              "      background-color: #3B4455;\n",
              "      fill: #D2E3FC;\n",
              "    }\n",
              "\n",
              "    [theme=dark] .colab-df-convert:hover {\n",
              "      background-color: #434B5C;\n",
              "      box-shadow: 0px 1px 3px 1px rgba(0, 0, 0, 0.15);\n",
              "      filter: drop-shadow(0px 1px 2px rgba(0, 0, 0, 0.3));\n",
              "      fill: #FFFFFF;\n",
              "    }\n",
              "  </style>\n",
              "\n",
              "    <script>\n",
              "      const buttonEl =\n",
              "        document.querySelector('#df-4c67a9b3-912e-4441-86b4-9fcd9ecea9d0 button.colab-df-convert');\n",
              "      buttonEl.style.display =\n",
              "        google.colab.kernel.accessAllowed ? 'block' : 'none';\n",
              "\n",
              "      async function convertToInteractive(key) {\n",
              "        const element = document.querySelector('#df-4c67a9b3-912e-4441-86b4-9fcd9ecea9d0');\n",
              "        const dataTable =\n",
              "          await google.colab.kernel.invokeFunction('convertToInteractive',\n",
              "                                                    [key], {});\n",
              "        if (!dataTable) return;\n",
              "\n",
              "        const docLinkHtml = 'Like what you see? Visit the ' +\n",
              "          '<a target=\"_blank\" href=https://colab.research.google.com/notebooks/data_table.ipynb>data table notebook</a>'\n",
              "          + ' to learn more about interactive tables.';\n",
              "        element.innerHTML = '';\n",
              "        dataTable['output_type'] = 'display_data';\n",
              "        await google.colab.output.renderOutput(dataTable, element);\n",
              "        const docLink = document.createElement('div');\n",
              "        docLink.innerHTML = docLinkHtml;\n",
              "        element.appendChild(docLink);\n",
              "      }\n",
              "    </script>\n",
              "  </div>\n",
              "\n",
              "\n",
              "<div id=\"df-00bb4d0f-b663-46d8-9122-6fb51b268fa2\">\n",
              "  <button class=\"colab-df-quickchart\" onclick=\"quickchart('df-00bb4d0f-b663-46d8-9122-6fb51b268fa2')\"\n",
              "            title=\"Suggest charts\"\n",
              "            style=\"display:none;\">\n",
              "\n",
              "<svg xmlns=\"http://www.w3.org/2000/svg\" height=\"24px\"viewBox=\"0 0 24 24\"\n",
              "     width=\"24px\">\n",
              "    <g>\n",
              "        <path d=\"M19 3H5c-1.1 0-2 .9-2 2v14c0 1.1.9 2 2 2h14c1.1 0 2-.9 2-2V5c0-1.1-.9-2-2-2zM9 17H7v-7h2v7zm4 0h-2V7h2v10zm4 0h-2v-4h2v4z\"/>\n",
              "    </g>\n",
              "</svg>\n",
              "  </button>\n",
              "\n",
              "<style>\n",
              "  .colab-df-quickchart {\n",
              "      --bg-color: #E8F0FE;\n",
              "      --fill-color: #1967D2;\n",
              "      --hover-bg-color: #E2EBFA;\n",
              "      --hover-fill-color: #174EA6;\n",
              "      --disabled-fill-color: #AAA;\n",
              "      --disabled-bg-color: #DDD;\n",
              "  }\n",
              "\n",
              "  [theme=dark] .colab-df-quickchart {\n",
              "      --bg-color: #3B4455;\n",
              "      --fill-color: #D2E3FC;\n",
              "      --hover-bg-color: #434B5C;\n",
              "      --hover-fill-color: #FFFFFF;\n",
              "      --disabled-bg-color: #3B4455;\n",
              "      --disabled-fill-color: #666;\n",
              "  }\n",
              "\n",
              "  .colab-df-quickchart {\n",
              "    background-color: var(--bg-color);\n",
              "    border: none;\n",
              "    border-radius: 50%;\n",
              "    cursor: pointer;\n",
              "    display: none;\n",
              "    fill: var(--fill-color);\n",
              "    height: 32px;\n",
              "    padding: 0;\n",
              "    width: 32px;\n",
              "  }\n",
              "\n",
              "  .colab-df-quickchart:hover {\n",
              "    background-color: var(--hover-bg-color);\n",
              "    box-shadow: 0 1px 2px rgba(60, 64, 67, 0.3), 0 1px 3px 1px rgba(60, 64, 67, 0.15);\n",
              "    fill: var(--button-hover-fill-color);\n",
              "  }\n",
              "\n",
              "  .colab-df-quickchart-complete:disabled,\n",
              "  .colab-df-quickchart-complete:disabled:hover {\n",
              "    background-color: var(--disabled-bg-color);\n",
              "    fill: var(--disabled-fill-color);\n",
              "    box-shadow: none;\n",
              "  }\n",
              "\n",
              "  .colab-df-spinner {\n",
              "    border: 2px solid var(--fill-color);\n",
              "    border-color: transparent;\n",
              "    border-bottom-color: var(--fill-color);\n",
              "    animation:\n",
              "      spin 1s steps(1) infinite;\n",
              "  }\n",
              "\n",
              "  @keyframes spin {\n",
              "    0% {\n",
              "      border-color: transparent;\n",
              "      border-bottom-color: var(--fill-color);\n",
              "      border-left-color: var(--fill-color);\n",
              "    }\n",
              "    20% {\n",
              "      border-color: transparent;\n",
              "      border-left-color: var(--fill-color);\n",
              "      border-top-color: var(--fill-color);\n",
              "    }\n",
              "    30% {\n",
              "      border-color: transparent;\n",
              "      border-left-color: var(--fill-color);\n",
              "      border-top-color: var(--fill-color);\n",
              "      border-right-color: var(--fill-color);\n",
              "    }\n",
              "    40% {\n",
              "      border-color: transparent;\n",
              "      border-right-color: var(--fill-color);\n",
              "      border-top-color: var(--fill-color);\n",
              "    }\n",
              "    60% {\n",
              "      border-color: transparent;\n",
              "      border-right-color: var(--fill-color);\n",
              "    }\n",
              "    80% {\n",
              "      border-color: transparent;\n",
              "      border-right-color: var(--fill-color);\n",
              "      border-bottom-color: var(--fill-color);\n",
              "    }\n",
              "    90% {\n",
              "      border-color: transparent;\n",
              "      border-bottom-color: var(--fill-color);\n",
              "    }\n",
              "  }\n",
              "</style>\n",
              "\n",
              "  <script>\n",
              "    async function quickchart(key) {\n",
              "      const quickchartButtonEl =\n",
              "        document.querySelector('#' + key + ' button');\n",
              "      quickchartButtonEl.disabled = true;  // To prevent multiple clicks.\n",
              "      quickchartButtonEl.classList.add('colab-df-spinner');\n",
              "      try {\n",
              "        const charts = await google.colab.kernel.invokeFunction(\n",
              "            'suggestCharts', [key], {});\n",
              "      } catch (error) {\n",
              "        console.error('Error during call to suggestCharts:', error);\n",
              "      }\n",
              "      quickchartButtonEl.classList.remove('colab-df-spinner');\n",
              "      quickchartButtonEl.classList.add('colab-df-quickchart-complete');\n",
              "    }\n",
              "    (() => {\n",
              "      let quickchartButtonEl =\n",
              "        document.querySelector('#df-00bb4d0f-b663-46d8-9122-6fb51b268fa2 button');\n",
              "      quickchartButtonEl.style.display =\n",
              "        google.colab.kernel.accessAllowed ? 'block' : 'none';\n",
              "    })();\n",
              "  </script>\n",
              "</div>\n",
              "\n",
              "    </div>\n",
              "  </div>\n"
            ],
            "application/vnd.google.colaboratory.intrinsic+json": {
              "type": "dataframe",
              "summary": "{\n  \"name\": \"df\",\n  \"rows\": 8,\n  \"fields\": [\n    {\n      \"column\": \"Year\",\n      \"properties\": {\n        \"dtype\": \"number\",\n        \"std\": 879.6641904198917,\n        \"min\": 0.48020809929587455,\n        \"max\": 2020.0,\n        \"num_unique_values\": 5,\n        \"samples\": [\n          2019.6425702811246,\n          2020.0,\n          0.48020809929587455\n        ],\n        \"semantic_type\": \"\",\n        \"description\": \"\"\n      }\n    },\n    {\n      \"column\": \"Month of the year\",\n      \"properties\": {\n        \"dtype\": \"number\",\n        \"std\": 85.93255726447926,\n        \"min\": 1.0,\n        \"max\": 249.0,\n        \"num_unique_values\": 8,\n        \"samples\": [\n          6.546184738955823,\n          6.0,\n          249.0\n        ],\n        \"semantic_type\": \"\",\n        \"description\": \"\"\n      }\n    },\n    {\n      \"column\": \"Users\",\n      \"properties\": {\n        \"dtype\": \"number\",\n        \"std\": 43404.68069284029,\n        \"min\": 41.0,\n        \"max\": 126870.0,\n        \"num_unique_values\": 8,\n        \"samples\": [\n          11340.522088353413,\n          865.0,\n          249.0\n        ],\n        \"semantic_type\": \"\",\n        \"description\": \"\"\n      }\n    },\n    {\n      \"column\": \"New Users\",\n      \"properties\": {\n        \"dtype\": \"number\",\n        \"std\": 35867.13465361021,\n        \"min\": 1.0,\n        \"max\": 104308.0,\n        \"num_unique_values\": 8,\n        \"samples\": [\n          8778.967871485944,\n          493.0,\n          249.0\n        ],\n        \"semantic_type\": \"\",\n        \"description\": \"\"\n      }\n    },\n    {\n      \"column\": \"Sessions\",\n      \"properties\": {\n        \"dtype\": \"number\",\n        \"std\": 66731.63902478183,\n        \"min\": 127.0,\n        \"max\": 194667.0,\n        \"num_unique_values\": 8,\n        \"samples\": [\n          16155.417670682731,\n          1146.0,\n          249.0\n        ],\n        \"semantic_type\": \"\",\n        \"description\": \"\"\n      }\n    },\n    {\n      \"column\": \"Bounce Rate\",\n      \"properties\": {\n        \"dtype\": \"number\",\n        \"std\": 87.8743958092614,\n        \"min\": 0.0,\n        \"max\": 249.0,\n        \"num_unique_values\": 8,\n        \"samples\": [\n          0.4926506024096386,\n          0.53,\n          249.0\n        ],\n        \"semantic_type\": \"\",\n        \"description\": \"\"\n      }\n    },\n    {\n      \"column\": \"Pageviews\",\n      \"properties\": {\n        \"dtype\": \"number\",\n        \"std\": 191669.61696826693,\n        \"min\": 237.0,\n        \"max\": 559509.0,\n        \"num_unique_values\": 8,\n        \"samples\": [\n          44287.7108433735,\n          4457.0,\n          249.0\n        ],\n        \"semantic_type\": \"\",\n        \"description\": \"\"\n      }\n    },\n    {\n      \"column\": \"Conversion Rate (%)\",\n      \"properties\": {\n        \"dtype\": \"number\",\n        \"std\": 86.45294253527636,\n        \"min\": 0.0,\n        \"max\": 249.0,\n        \"num_unique_values\": 8,\n        \"samples\": [\n          3.150602409638554,\n          0.42,\n          249.0\n        ],\n        \"semantic_type\": \"\",\n        \"description\": \"\"\n      }\n    },\n    {\n      \"column\": \"Transactions\",\n      \"properties\": {\n        \"dtype\": \"number\",\n        \"std\": 454.4257834428559,\n        \"min\": 0.0,\n        \"max\": 1347.0,\n        \"num_unique_values\": 8,\n        \"samples\": [\n          85.39357429718875,\n          8.0,\n          249.0\n        ],\n        \"semantic_type\": \"\",\n        \"description\": \"\"\n      }\n    },\n    {\n      \"column\": \"Revenue\",\n      \"properties\": {\n        \"dtype\": \"number\",\n        \"std\": 69679.77666745885,\n        \"min\": 0.0,\n        \"max\": 203552.0,\n        \"num_unique_values\": 8,\n        \"samples\": [\n          14832.104417670682,\n          1416.0,\n          249.0\n        ],\n        \"semantic_type\": \"\",\n        \"description\": \"\"\n      }\n    },\n    {\n      \"column\": \"Quantity Sold\",\n      \"properties\": {\n        \"dtype\": \"number\",\n        \"std\": 813.9990168483249,\n        \"min\": 0.0,\n        \"max\": 2402.0,\n        \"num_unique_values\": 8,\n        \"samples\": [\n          150.70682730923696,\n          14.0,\n          249.0\n        ],\n        \"semantic_type\": \"\",\n        \"description\": \"\"\n      }\n    }\n  ]\n}"
            }
          },
          "metadata": {},
          "execution_count": 4
        }
      ]
    },
    {
      "cell_type": "code",
      "source": [
        "df['Month of the year'].dtypes"
      ],
      "metadata": {
        "colab": {
          "base_uri": "https://localhost:8080/"
        },
        "id": "jcHeW8q5UbFo",
        "outputId": "3c2d5c52-4372-4682-ef6f-46944d48b344"
      },
      "execution_count": 11,
      "outputs": [
        {
          "output_type": "execute_result",
          "data": {
            "text/plain": [
              "dtype('int64')"
            ]
          },
          "metadata": {},
          "execution_count": 11
        }
      ]
    },
    {
      "cell_type": "code",
      "source": [
        "df['Conversion Rate (%)'].dtype"
      ],
      "metadata": {
        "colab": {
          "base_uri": "https://localhost:8080/"
        },
        "id": "kfxcQSu9U4pT",
        "outputId": "19a95445-4811-4219-d8c1-6adb3ed95f02"
      },
      "execution_count": 12,
      "outputs": [
        {
          "output_type": "execute_result",
          "data": {
            "text/plain": [
              "dtype('float64')"
            ]
          },
          "metadata": {},
          "execution_count": 12
        }
      ]
    },
    {
      "cell_type": "code",
      "source": [
        "df['Conversion Rate (%)'] = df['Conversion Rate (%)']/100 #Get percent out of value.\n",
        "print(df.info())"
      ],
      "metadata": {
        "colab": {
          "base_uri": "https://localhost:8080/"
        },
        "id": "E8PNpW2iVEy7",
        "outputId": "1cb8b825-3f60-4f6e-9010-f8c9755b09dd"
      },
      "execution_count": 13,
      "outputs": [
        {
          "output_type": "stream",
          "name": "stdout",
          "text": [
            "<class 'pandas.core.frame.DataFrame'>\n",
            "RangeIndex: 249 entries, 0 to 248\n",
            "Data columns (total 13 columns):\n",
            " #   Column                 Non-Null Count  Dtype  \n",
            "---  ------                 --------------  -----  \n",
            " 0   Source / Medium        249 non-null    object \n",
            " 1   Year                   249 non-null    int64  \n",
            " 2   Month of the year      249 non-null    int64  \n",
            " 3   Users                  249 non-null    int64  \n",
            " 4   New Users              249 non-null    int64  \n",
            " 5   Sessions               249 non-null    int64  \n",
            " 6   Bounce Rate            249 non-null    float64\n",
            " 7   Pageviews              249 non-null    int64  \n",
            " 8   Avg. Session Duration  249 non-null    object \n",
            " 9   Conversion Rate (%)    249 non-null    float64\n",
            " 10  Transactions           249 non-null    int64  \n",
            " 11  Revenue                249 non-null    int64  \n",
            " 12  Quantity Sold          249 non-null    int64  \n",
            "dtypes: float64(2), int64(9), object(2)\n",
            "memory usage: 25.4+ KB\n",
            "None\n"
          ]
        }
      ]
    },
    {
      "cell_type": "code",
      "source": [
        "for col in ['Source / Medium']:\n",
        "  if df[col].dtype == 'object':\n",
        "    df[col] = df[col].astype('category')\n"
      ],
      "metadata": {
        "id": "tBPZjsBdVQSE"
      },
      "execution_count": 15,
      "outputs": []
    },
    {
      "cell_type": "code",
      "source": [
        "#1.total revenue , users and sessions by source / medium\n",
        "grouped_data = df.groupby('Source / Medium')[['Revenue','Users','Sessions']].sum()\n",
        "print(grouped_data)"
      ],
      "metadata": {
        "colab": {
          "base_uri": "https://localhost:8080/"
        },
        "id": "bklFmDYdV_cE",
        "outputId": "f8806bc7-eba5-49c9-a778-bd24ccd8869b"
      },
      "execution_count": 16,
      "outputs": [
        {
          "output_type": "stream",
          "name": "stdout",
          "text": [
            "                 Revenue    Users  Sessions\n",
            "Source / Medium                            \n",
            "A                1294136  1110513   1702468\n",
            "AA                    81     2697      3012\n",
            "B                 540692   696901    840512\n",
            "BB                   103      382      1133\n",
            "C                 207764   255043    368662\n",
            "CC                 24440     1333      1765\n",
            "D                    290   107241    127386\n",
            "DD                  1307      320       503\n",
            "E                 197904   185065    328563\n",
            "EE                 14257      620      1138\n",
            "F                 149046   142865    173986\n",
            "FF                  1548     1213      1455\n",
            "G                  84647    53214     86987\n",
            "GG                     0      216       219\n",
            "H                  15067    71565     97793\n",
            "HH                   439       81       215\n",
            "I                  54376    54565     91971\n",
            "II                   450      102       214\n",
            "J                   4009    11112     11702\n",
            "JJ                  3880      610       763\n",
            "K                   5021    22053     26254\n",
            "KK                     0      119       135\n",
            "L                   3640    10271     24629\n",
            "M                  28230    17944     23186\n",
            "N                      0     6315      7057\n",
            "O                   1527     4418     10882\n",
            "P                  16480    22477     25187\n",
            "R                   9438    13004     18008\n",
            "S                 719182     6197     11634\n",
            "T                   4678     3357      5754\n",
            "U                 293292     2830      6336\n",
            "V                    135     2507      2638\n",
            "Y                      0      913       943\n",
            "Z                   6994     5383      6606\n",
            "l.K                 3990     5004      5644\n",
            "l.M                 5839     4680      6247\n",
            "lI                   312      660      1112\n"
          ]
        },
        {
          "output_type": "stream",
          "name": "stderr",
          "text": [
            "<ipython-input-16-6167dff20314>:2: FutureWarning: The default of observed=False is deprecated and will be changed to True in a future version of pandas. Pass observed=False to retain current behavior or observed=True to adopt the future default and silence this warning.\n",
            "  grouped_data = df.groupby('Source / Medium')[['Revenue','Users','Sessions']].sum()\n"
          ]
        }
      ]
    },
    {
      "cell_type": "code",
      "source": [
        "# 2. Average Bounce Rate and Conversion Rate by Source / Medium\n",
        "grouped_data = df.groupby('Source / Medium')[['Bounce Rate','Conversion Rate (%)']].mean()\n",
        "print(grouped_data)"
      ],
      "metadata": {
        "colab": {
          "base_uri": "https://localhost:8080/"
        },
        "id": "benMyECRWsqX",
        "outputId": "b6332315-cf4d-4150-e22b-8d910ca9a6a9"
      },
      "execution_count": 17,
      "outputs": [
        {
          "output_type": "stream",
          "name": "stdout",
          "text": [
            "                 Bounce Rate  Conversion Rate (%)\n",
            "Source / Medium                                  \n",
            "A                   0.669167             0.004567\n",
            "AA                  0.578889             0.000622\n",
            "B                   0.570833             0.003617\n",
            "BB                  0.653333             0.000467\n",
            "C                   0.512500             0.003808\n",
            "CC                  0.336000             0.065300\n",
            "D                   0.860000             0.000020\n",
            "DD                  0.410000             0.017900\n",
            "E                   0.572727             0.003936\n",
            "EE                  0.311667             0.056217\n",
            "F                   0.572500             0.005883\n",
            "FF                  0.453750             0.006125\n",
            "G                   0.560000             0.007350\n",
            "GG                  0.990000             0.000000\n",
            "H                   0.624000             0.000740\n",
            "HH                  0.260000             0.014000\n",
            "I                   0.475556             0.009500\n",
            "II                  0.420000             0.014000\n",
            "J                   0.590000             0.002300\n",
            "JJ                  0.316000             0.011360\n",
            "K                   0.420833             0.002767\n",
            "KK                  0.270000             0.000000\n",
            "L                   0.750000             0.000763\n",
            "M                   0.620833             0.011725\n",
            "N                   0.845000             0.000000\n",
            "O                   0.747500             0.000725\n",
            "P                   0.617273             0.003945\n",
            "R                   0.473333             0.003822\n",
            "S                   0.180909             0.331827\n",
            "T                   0.397500             0.006350\n",
            "U                   0.253636             0.228600\n",
            "V                   0.560000             0.000880\n",
            "Y                   0.620000             0.000000\n",
            "Z                   0.470000             0.005425\n",
            "l.K                 0.137778             0.003600\n",
            "l.M                 0.250000             0.009178\n",
            "lI                  0.480000             0.001525\n"
          ]
        },
        {
          "output_type": "stream",
          "name": "stderr",
          "text": [
            "<ipython-input-17-6cec94546b58>:2: FutureWarning: The default of observed=False is deprecated and will be changed to True in a future version of pandas. Pass observed=False to retain current behavior or observed=True to adopt the future default and silence this warning.\n",
            "  grouped_data = df.groupby('Source / Medium')[['Bounce Rate','Conversion Rate (%)']].mean()\n"
          ]
        }
      ]
    },
    {
      "cell_type": "code",
      "source": [
        "#monthly trends\n",
        "monthly_trends = df.groupby('Month of the year')[['Revenue','Users','Sessions']].sum()\n",
        "print(monthly_trends)"
      ],
      "metadata": {
        "colab": {
          "base_uri": "https://localhost:8080/"
        },
        "id": "G99hfGupW8vk",
        "outputId": "1fd9f9b4-d410-4306-cff2-b01ccac5e4ea"
      },
      "execution_count": 19,
      "outputs": [
        {
          "output_type": "stream",
          "name": "stdout",
          "text": [
            "                   Revenue   Users  Sessions\n",
            "Month of the year                           \n",
            "1                   307336  225887    321569\n",
            "2                   323540  208961    299524\n",
            "3                   277426  179824    262298\n",
            "4                   373345  193983    274912\n",
            "5                   589545  396757    547913\n",
            "6                   469650  243672    359041\n",
            "7                   266165  205556    273979\n",
            "8                   115788  119359    153935\n",
            "9                   155796  217509    326626\n",
            "10                  283905  280312    408582\n",
            "11                  270010  288385    424084\n",
            "12                  260688  263585    370236\n"
          ]
        }
      ]
    },
    {
      "cell_type": "code",
      "source": [
        "# 1. Revenue by Source / Medium (Bar Chart)\n",
        "import matplotlib.pyplot as plt\n",
        "plt.figure(figsize=(10, 6))\n",
        "revenue_by_source_medium = df.groupby('Source / Medium')['Revenue'].sum()\n",
        "revenue_by_source_medium.plot(kind='bar')\n",
        "plt.title('Revenue by Source / Medium')\n",
        "plt.xlabel('Source / Medium')\n",
        "plt.ylabel('Revenue')\n",
        "plt.xticks(rotation=45, ha='right')\n",
        "plt.tight_layout()\n",
        "plt.show()"
      ],
      "metadata": {
        "colab": {
          "base_uri": "https://localhost:8080/",
          "height": 661
        },
        "id": "aVyeknMiXZvx",
        "outputId": "3395393d-d809-413a-bdf1-0453b562e9f5"
      },
      "execution_count": 23,
      "outputs": [
        {
          "output_type": "stream",
          "name": "stderr",
          "text": [
            "<ipython-input-23-f88e358af781>:4: FutureWarning: The default of observed=False is deprecated and will be changed to True in a future version of pandas. Pass observed=False to retain current behavior or observed=True to adopt the future default and silence this warning.\n",
            "  revenue_by_source_medium = df.groupby('Source / Medium')['Revenue'].sum()\n"
          ]
        },
        {
          "output_type": "display_data",
          "data": {
            "text/plain": [
              "<Figure size 1000x600 with 1 Axes>"
            ],
            "image/png": "[encoded data removed]"
          },
          "metadata": {}
        }
      ]
    },
    {
      "cell_type": "code",
      "source": [
        "#monthly revenue trend line chart\n",
        "plt.figure(figsize=(10, 6))\n",
        "monthly_revenue_trend = df.groupby('Month of the year')['Revenue'].sum()\n",
        "monthly_revenue_trend.plot(kind='line', marker='o')\n",
        "\n"
      ],
      "metadata": {
        "colab": {
          "base_uri": "https://localhost:8080/",
          "height": 559
        },
        "id": "CXxtBIk1YG_W",
        "outputId": "e0e3912c-e5a7-4c54-a7a7-607e975ca28b"
      },
      "execution_count": 24,
      "outputs": [
        {
          "output_type": "execute_result",
          "data": {
            "text/plain": [
              "<Axes: xlabel='Month of the year'>"
            ]
          },
          "metadata": {},
          "execution_count": 24
        },
        {
          "output_type": "display_data",
          "data": {
            "text/plain": [
              "<Figure size 1000x600 with 1 Axes>"
            ],
            "image/png": "[encoded data removed]"
          },
          "metadata": {}
        }
      ]
    },
    {
      "cell_type": "code",
      "source": [
        "# 3. Average Bounce Rate by Source / Medium (Bar Chart)\n",
        "plt.figure(figsize=(10, 6))\n",
        "average_bounce_rate_by_source_medium = df.groupby('Source / Medium')['Bounce Rate'].mean()\n",
        "average_bounce_rate_by_source_medium.plot(kind='bar')"
      ],
      "metadata": {
        "colab": {
          "base_uri": "https://localhost:8080/",
          "height": 620
        },
        "id": "mAt3-ravYG2v",
        "outputId": "1e1a77b0-51d1-4f53-de27-f6f1a977e68f"
      },
      "execution_count": 25,
      "outputs": [
        {
          "output_type": "stream",
          "name": "stderr",
          "text": [
            "<ipython-input-25-cddb48759710>:3: FutureWarning: The default of observed=False is deprecated and will be changed to True in a future version of pandas. Pass observed=False to retain current behavior or observed=True to adopt the future default and silence this warning.\n",
            "  average_bounce_rate_by_source_medium = df.groupby('Source / Medium')['Bounce Rate'].mean()\n"
          ]
        },
        {
          "output_type": "execute_result",
          "data": {
            "text/plain": [
              "<Axes: xlabel='Source / Medium'>"
            ]
          },
          "metadata": {},
          "execution_count": 25
        },
        {
          "output_type": "display_data",
          "data": {
            "text/plain": [
              "<Figure size 1000x600 with 1 Axes>"
            ],
            "image/png": "[encoded data removed]"
          },
          "metadata": {}
        }
      ]
    },
    {
      "cell_type": "code",
      "source": [
        "# 4. Scatter plot of Revenue vs Page views\n",
        "\n",
        "plt.figure(figsize=(10,6))\n",
        "plt.scatter(x = df[\"Revenue\"], y = df[\"Pageviews\"])\n",
        "plt.title(\"Revenue vs Page Views\")\n",
        "plt.show()"
      ],
      "metadata": {
        "colab": {
          "base_uri": "https://localhost:8080/",
          "height": 545
        },
        "id": "oOhweJ0mYnZU",
        "outputId": "4a873d6d-0152-4ae3-826e-6f08d9c13060"
      },
      "execution_count": 26,
      "outputs": [
        {
          "output_type": "display_data",
          "data": {
            "text/plain": [
              "<Figure size 1000x600 with 1 Axes>"
            ],
            "image/png": "[encoded data removed]"
          },
          "metadata": {}
        }
      ]
    }
  ]
}